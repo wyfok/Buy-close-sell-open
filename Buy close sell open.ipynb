{
 "cells": [
  {
   "cell_type": "markdown",
   "metadata": {},
   "source": [
    "# Buying at the close of trading and selling it at the next day’s market open "
   ]
  },
  {
   "cell_type": "markdown",
   "metadata": {},
   "source": [
    "### Reference: https://www.bloomberg.com/news/articles/2019-07-25/for-monster-gains-with-world-s-largest-etf-trade-it-after-hours"
   ]
  },
  {
   "cell_type": "markdown",
   "metadata": {},
   "source": [
    "According to Bloomberg,  for SPDR S&P 500 ETF, or SPY, buying at the end of trading hour on one day and selling at the start of trading hour on the next day can provide 670% since 1993. This python will study this strategy in depth. "
   ]
  },
  {
   "cell_type": "markdown",
   "metadata": {},
   "source": [
    "First is to import module \n",
    "<br> The data source is obtained from Yahoo Finance "
   ]
  },
  {
   "cell_type": "code",
   "execution_count": 1,
   "metadata": {},
   "outputs": [],
   "source": [
    "# import modules\n",
    "import yfinance \n",
    "import numpy as np \n",
    "import pandas as pd \n",
    "import matplotlib.pyplot as plt "
   ]
  },
  {
   "cell_type": "markdown",
   "metadata": {},
   "source": [
    "The study will be carried by using a fund to study the differences in performance of both \"Buy-close-sell-open\" and \"buy and hold\" strategies.\n",
    "<br>One thing that needs to consider is dividend. Since a stock is ex-dividend before the open of ex-dividend date. As a result, an investor will collect the dividend under this strategy. In this study, dividend will be collected into the fund and it can be reinvested right after ex-dividend.\n"
   ]
  },
  {
   "cell_type": "markdown",
   "metadata": {},
   "source": [
    "First is to download data for SPY\n",
    "<br>The study period is from 2010 to 2018"
   ]
  },
  {
   "cell_type": "code",
   "execution_count": 2,
   "metadata": {},
   "outputs": [
    {
     "data": {
      "text/html": [
       "<div>\n",
       "<style scoped>\n",
       "    .dataframe tbody tr th:only-of-type {\n",
       "        vertical-align: middle;\n",
       "    }\n",
       "\n",
       "    .dataframe tbody tr th {\n",
       "        vertical-align: top;\n",
       "    }\n",
       "\n",
       "    .dataframe thead th {\n",
       "        text-align: right;\n",
       "    }\n",
       "</style>\n",
       "<table border=\"1\" class=\"dataframe\">\n",
       "  <thead>\n",
       "    <tr style=\"text-align: right;\">\n",
       "      <th></th>\n",
       "      <th>Open</th>\n",
       "      <th>High</th>\n",
       "      <th>Low</th>\n",
       "      <th>Close</th>\n",
       "      <th>Volume</th>\n",
       "      <th>Dividends</th>\n",
       "      <th>Stock Splits</th>\n",
       "    </tr>\n",
       "    <tr>\n",
       "      <th>Date</th>\n",
       "      <th></th>\n",
       "      <th></th>\n",
       "      <th></th>\n",
       "      <th></th>\n",
       "      <th></th>\n",
       "      <th></th>\n",
       "      <th></th>\n",
       "    </tr>\n",
       "  </thead>\n",
       "  <tbody>\n",
       "    <tr>\n",
       "      <th>2010-01-04</th>\n",
       "      <td>92.88</td>\n",
       "      <td>93.72</td>\n",
       "      <td>92.17</td>\n",
       "      <td>93.68</td>\n",
       "      <td>118944600</td>\n",
       "      <td>0.0</td>\n",
       "      <td>0</td>\n",
       "    </tr>\n",
       "    <tr>\n",
       "      <th>2010-01-05</th>\n",
       "      <td>93.62</td>\n",
       "      <td>93.96</td>\n",
       "      <td>93.28</td>\n",
       "      <td>93.92</td>\n",
       "      <td>111579900</td>\n",
       "      <td>0.0</td>\n",
       "      <td>0</td>\n",
       "    </tr>\n",
       "    <tr>\n",
       "      <th>2010-01-06</th>\n",
       "      <td>93.83</td>\n",
       "      <td>94.22</td>\n",
       "      <td>93.76</td>\n",
       "      <td>93.99</td>\n",
       "      <td>116074400</td>\n",
       "      <td>0.0</td>\n",
       "      <td>0</td>\n",
       "    </tr>\n",
       "    <tr>\n",
       "      <th>2010-01-07</th>\n",
       "      <td>93.82</td>\n",
       "      <td>94.50</td>\n",
       "      <td>93.55</td>\n",
       "      <td>94.39</td>\n",
       "      <td>131091100</td>\n",
       "      <td>0.0</td>\n",
       "      <td>0</td>\n",
       "    </tr>\n",
       "    <tr>\n",
       "      <th>2010-01-08</th>\n",
       "      <td>94.14</td>\n",
       "      <td>94.74</td>\n",
       "      <td>93.95</td>\n",
       "      <td>94.70</td>\n",
       "      <td>126402800</td>\n",
       "      <td>0.0</td>\n",
       "      <td>0</td>\n",
       "    </tr>\n",
       "  </tbody>\n",
       "</table>\n",
       "</div>"
      ],
      "text/plain": [
       "             Open   High    Low  Close     Volume  Dividends  Stock Splits\n",
       "Date                                                                      \n",
       "2010-01-04  92.88  93.72  92.17  93.68  118944600        0.0             0\n",
       "2010-01-05  93.62  93.96  93.28  93.92  111579900        0.0             0\n",
       "2010-01-06  93.83  94.22  93.76  93.99  116074400        0.0             0\n",
       "2010-01-07  93.82  94.50  93.55  94.39  131091100        0.0             0\n",
       "2010-01-08  94.14  94.74  93.95  94.70  126402800        0.0             0"
      ]
     },
     "execution_count": 2,
     "metadata": {},
     "output_type": "execute_result"
    }
   ],
   "source": [
    "spy = yfinance.Ticker(\"SPY\")\n",
    "stock_price = spy.history(start=\"2010-01-04\", end=\"2018-12-31\")\n",
    "stock_price.head()"
   ]
  },
  {
   "cell_type": "markdown",
   "metadata": {},
   "source": [
    "First step is to check if there is stock split for SPY"
   ]
  },
  {
   "cell_type": "code",
   "execution_count": 3,
   "metadata": {},
   "outputs": [
    {
     "data": {
      "text/plain": [
       "{0}"
      ]
     },
     "execution_count": 3,
     "metadata": {},
     "output_type": "execute_result"
    }
   ],
   "source": [
    "set(stock_price['Stock Splits'])"
   ]
  },
  {
   "cell_type": "markdown",
   "metadata": {},
   "source": [
    "So there is no stock split during the period\n",
    "<br>Second is to only keep open, close and Dividends from stock_price df \n",
    "<br>The df is called performance_bcso (buy close sell open)"
   ]
  },
  {
   "cell_type": "code",
   "execution_count": 4,
   "metadata": {},
   "outputs": [],
   "source": [
    "performance_bcso = stock_price[['Open','Close','Dividends']]"
   ]
  },
  {
   "cell_type": "code",
   "execution_count": 5,
   "metadata": {},
   "outputs": [
    {
     "name": "stderr",
     "output_type": "stream",
     "text": [
      "C:\\Users\\Yuasto\\Anaconda3\\lib\\site-packages\\pandas\\core\\indexing.py:362: SettingWithCopyWarning: \n",
      "A value is trying to be set on a copy of a slice from a DataFrame.\n",
      "Try using .loc[row_indexer,col_indexer] = value instead\n",
      "\n",
      "See the caveats in the documentation: http://pandas.pydata.org/pandas-docs/stable/indexing.html#indexing-view-versus-copy\n",
      "  self.obj[key] = _infer_fill_value(value)\n",
      "C:\\Users\\Yuasto\\Anaconda3\\lib\\site-packages\\pandas\\core\\indexing.py:635: SettingWithCopyWarning: \n",
      "A value is trying to be set on a copy of a slice from a DataFrame.\n",
      "Try using .loc[row_indexer,col_indexer] = value instead\n",
      "\n",
      "See the caveats in the documentation: http://pandas.pydata.org/pandas-docs/stable/indexing.html#indexing-view-versus-copy\n",
      "  self.obj[item_labels[indexer[info_axis]]] = value\n"
     ]
    }
   ],
   "source": [
    "performance_bcso.loc[:,'Funds']=np.nan\n",
    "performance_bcso.loc[:,'Num_share']= np.nan\n",
    "performance_bcso.loc[:,'Remaining']=np.nan\n",
    "performance_bcso.loc[:,'EOD_Total']=np.nan"
   ]
  },
  {
   "cell_type": "code",
   "execution_count": 6,
   "metadata": {},
   "outputs": [],
   "source": [
    "performance_bcso['Funds'][0]=10000\n",
    "performance_bcso['Num_share'][0]= performance_bcso['Funds'][0]//performance_bcso['Close'][0]\n",
    "performance_bcso['Remaining'][0] = performance_bcso['Funds'][0] - performance_bcso['Num_share'][0]*performance_bcso['Close'][0]\n",
    "performance_bcso['EOD_Total'][0] = performance_bcso['Num_share'][0]*performance_bcso['Close'][0] + performance_bcso['Remaining'][0]"
   ]
  },
  {
   "cell_type": "code",
   "execution_count": 7,
   "metadata": {
    "scrolled": true
   },
   "outputs": [],
   "source": [
    "for i in range(1,performance_bcso.shape[0]):\n",
    "    performance_bcso['Funds'][i]=performance_bcso['Num_share'][i-1]*(performance_bcso['Open'][i]+performance_bcso['Dividends'][i])+performance_bcso['Remaining'][i-1]\n",
    "    performance_bcso['Num_share'][i]= performance_bcso['Funds'][i]//performance_bcso['Close'][i]\n",
    "    performance_bcso['Remaining'][i] = performance_bcso['Funds'][i] - performance_bcso['Num_share'][i]*performance_bcso['Close'][i]\n",
    "    performance_bcso['EOD_Total'][i] = performance_bcso['Num_share'][i]*performance_bcso['Close'][i] + performance_bcso['Remaining'][i]"
   ]
  },
  {
   "cell_type": "code",
   "execution_count": 8,
   "metadata": {
    "scrolled": true
   },
   "outputs": [
    {
     "data": {
      "text/html": [
       "<div>\n",
       "<style scoped>\n",
       "    .dataframe tbody tr th:only-of-type {\n",
       "        vertical-align: middle;\n",
       "    }\n",
       "\n",
       "    .dataframe tbody tr th {\n",
       "        vertical-align: top;\n",
       "    }\n",
       "\n",
       "    .dataframe thead th {\n",
       "        text-align: right;\n",
       "    }\n",
       "</style>\n",
       "<table border=\"1\" class=\"dataframe\">\n",
       "  <thead>\n",
       "    <tr style=\"text-align: right;\">\n",
       "      <th></th>\n",
       "      <th>Open</th>\n",
       "      <th>Close</th>\n",
       "      <th>Dividends</th>\n",
       "      <th>Funds</th>\n",
       "      <th>Num_share</th>\n",
       "      <th>Remaining</th>\n",
       "      <th>EOD_Total</th>\n",
       "    </tr>\n",
       "    <tr>\n",
       "      <th>Date</th>\n",
       "      <th></th>\n",
       "      <th></th>\n",
       "      <th></th>\n",
       "      <th></th>\n",
       "      <th></th>\n",
       "      <th></th>\n",
       "      <th></th>\n",
       "    </tr>\n",
       "  </thead>\n",
       "  <tbody>\n",
       "    <tr>\n",
       "      <th>2010-01-04</th>\n",
       "      <td>92.88</td>\n",
       "      <td>93.68</td>\n",
       "      <td>0.0</td>\n",
       "      <td>10000.00</td>\n",
       "      <td>106.0</td>\n",
       "      <td>69.92</td>\n",
       "      <td>10000.00</td>\n",
       "    </tr>\n",
       "    <tr>\n",
       "      <th>2010-01-05</th>\n",
       "      <td>93.62</td>\n",
       "      <td>93.92</td>\n",
       "      <td>0.0</td>\n",
       "      <td>9993.64</td>\n",
       "      <td>106.0</td>\n",
       "      <td>38.12</td>\n",
       "      <td>9993.64</td>\n",
       "    </tr>\n",
       "    <tr>\n",
       "      <th>2010-01-06</th>\n",
       "      <td>93.83</td>\n",
       "      <td>93.99</td>\n",
       "      <td>0.0</td>\n",
       "      <td>9984.10</td>\n",
       "      <td>106.0</td>\n",
       "      <td>21.16</td>\n",
       "      <td>9984.10</td>\n",
       "    </tr>\n",
       "    <tr>\n",
       "      <th>2010-01-07</th>\n",
       "      <td>93.82</td>\n",
       "      <td>94.39</td>\n",
       "      <td>0.0</td>\n",
       "      <td>9966.08</td>\n",
       "      <td>105.0</td>\n",
       "      <td>55.13</td>\n",
       "      <td>9966.08</td>\n",
       "    </tr>\n",
       "    <tr>\n",
       "      <th>2010-01-08</th>\n",
       "      <td>94.14</td>\n",
       "      <td>94.70</td>\n",
       "      <td>0.0</td>\n",
       "      <td>9939.83</td>\n",
       "      <td>104.0</td>\n",
       "      <td>91.03</td>\n",
       "      <td>9939.83</td>\n",
       "    </tr>\n",
       "  </tbody>\n",
       "</table>\n",
       "</div>"
      ],
      "text/plain": [
       "             Open  Close  Dividends     Funds  Num_share  Remaining  EOD_Total\n",
       "Date                                                                          \n",
       "2010-01-04  92.88  93.68        0.0  10000.00      106.0      69.92   10000.00\n",
       "2010-01-05  93.62  93.92        0.0   9993.64      106.0      38.12    9993.64\n",
       "2010-01-06  93.83  93.99        0.0   9984.10      106.0      21.16    9984.10\n",
       "2010-01-07  93.82  94.39        0.0   9966.08      105.0      55.13    9966.08\n",
       "2010-01-08  94.14  94.70        0.0   9939.83      104.0      91.03    9939.83"
      ]
     },
     "execution_count": 8,
     "metadata": {},
     "output_type": "execute_result"
    }
   ],
   "source": [
    "performance_bcso.head()"
   ]
  },
  {
   "cell_type": "code",
   "execution_count": 9,
   "metadata": {},
   "outputs": [
    {
     "data": {
      "image/png": "[encoded data removed]",
      "text/plain": [
       "<Figure size 432x288 with 1 Axes>"
      ]
     },
     "metadata": {
      "needs_background": "light"
     },
     "output_type": "display_data"
    }
   ],
   "source": [
    "performance_bcso['Funds'].plot()\n",
    "plt.show()"
   ]
  },
  {
   "cell_type": "code",
   "execution_count": 10,
   "metadata": {},
   "outputs": [
    {
     "data": {
      "text/plain": [
       "1.3673641000000027"
      ]
     },
     "execution_count": 10,
     "metadata": {},
     "output_type": "execute_result"
    }
   ],
   "source": [
    "performance_bcso['EOD_Total'][-1]/performance_bcso['EOD_Total'][0]-1"
   ]
  },
  {
   "cell_type": "markdown",
   "metadata": {},
   "source": [
    "So from 2010 to 2018, this strategy provides over 136% of return. Seems not bad.\n",
    "<br>But this should be compared with traditional \"buy and hold\" strategy in order to know if this is way better "
   ]
  },
  {
   "cell_type": "markdown",
   "metadata": {},
   "source": [
    "Here create another df called performance_bah (buy and hold)"
   ]
  },
  {
   "cell_type": "code",
   "execution_count": 11,
   "metadata": {
    "scrolled": true
   },
   "outputs": [],
   "source": [
    "performance_bah = stock_price[['Open','Close','Dividends']]\n",
    "performance_bah.loc[:,'Funds']= np.nan\n",
    "performance_bah.loc[:,'Num_share']= np.nan\n",
    "performance_bah.loc[:,'Remaining']=np.nan\n",
    "performance_bah.loc[:,'EOD_Total']=np.nan\n",
    "\n",
    "performance_bah['Funds'][0]=10000\n",
    "performance_bah['Num_share'][0]= performance_bah['Funds'][0]//performance_bah['Close'][0]\n",
    "performance_bah['Remaining'][0] = performance_bah['Funds'][0] - performance_bah['Num_share'][0]*performance_bah['Close'][0]\n",
    "performance_bah['EOD_Total'][0] = performance_bah['Num_share'][0]*performance_bah['Close'][0] + performance_bah['Remaining'][0]\n",
    "\n",
    "for i in range(1,performance_bah.shape[0]):\n",
    "    performance_bah['Funds'][i]=performance_bah['EOD_Total'][i-1]\n",
    "    if performance_bah['Dividends'][i]>0:\n",
    "        total_dividend = performance_bah['Dividends'][i]*performance_bah['Num_share'][i-1]\n",
    "        performance_bah['Remaining'][i] = performance_bah['Remaining'][i-1] + total_dividend\n",
    "        performance_bah['Num_share'][i] = performance_bah['Num_share'][i-1]\n",
    "        \n",
    "        if performance_bah['Remaining'][i] > performance_bah['Open'][i]:\n",
    "            num_share_reinvest = performance_bah['Remaining'][i] // performance_bah['Open'][i]\n",
    "            performance_bah['Num_share'][i] = performance_bah['Num_share'][i-1]+num_share_reinvest\n",
    "            performance_bah['Remaining'][i] = performance_bah['Remaining'][i] - num_share_reinvest*performance_bah['Open'][i]\n",
    "\n",
    "    else:\n",
    "        performance_bah['Num_share'][i] = performance_bah['Num_share'][i-1]\n",
    "        performance_bah['Remaining'][i] = performance_bah['Remaining'][i-1] \n",
    "    \n",
    "    performance_bah['EOD_Total'][i] = performance_bah['Num_share'][i]*performance_bah['Close'][i] + performance_bah['Remaining'][i]"
   ]
  },
  {
   "cell_type": "code",
   "execution_count": 12,
   "metadata": {},
   "outputs": [
    {
     "data": {
      "image/png": "[encoded data removed]",
      "text/plain": [
       "<Figure size 432x288 with 1 Axes>"
      ]
     },
     "metadata": {
      "needs_background": "light"
     },
     "output_type": "display_data"
    }
   ],
   "source": [
    "performance_bah['EOD_Total'].plot()\n",
    "plt.show()"
   ]
  },
  {
   "cell_type": "code",
   "execution_count": 13,
   "metadata": {},
   "outputs": [
    {
     "data": {
      "text/plain": [
       "2.1841562000000003"
      ]
     },
     "execution_count": 13,
     "metadata": {},
     "output_type": "execute_result"
    }
   ],
   "source": [
    "performance_bah['EOD_Total'][-1]/performance_bah['EOD_Total'][0]-1"
   ]
  },
  {
   "cell_type": "markdown",
   "metadata": {},
   "source": [
    "As a result, buy and hold strategy is better than buy close and sell open strategy."
   ]
  },
  {
   "cell_type": "code",
   "execution_count": null,
   "metadata": {},
   "outputs": [],
   "source": []
  }
 ],
 "metadata": {
  "kernelspec": {
   "display_name": "Python 3",
   "language": "python",
   "name": "python3"
  },
  "language_info": {
   "codemirror_mode": {
    "name": "ipython",
    "version": 3
   },
   "file_extension": ".py",
   "mimetype": "text/x-python",
   "name": "python",
   "nbconvert_exporter": "python",
   "pygments_lexer": "ipython3",
   "version": "3.7.3"
  }
 },
 "nbformat": 4,
 "nbformat_minor": 2
}
